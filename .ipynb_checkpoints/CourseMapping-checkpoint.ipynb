{
 "cells": [
  {
   "cell_type": "code",
   "execution_count": 171,
   "metadata": {},
   "outputs": [],
   "source": [
    "import xml.etree.ElementTree as ET\n",
    "import networkx as nx\n",
    "import requests\n",
    "import json\n",
    "import re\n",
    "\n",
    "connections = []\n",
    "to_sort = []"
   ]
  },
  {
   "cell_type": "code",
   "execution_count": 166,
   "metadata": {},
   "outputs": [],
   "source": [
    "r = requests.get(\"https://www.kth.se/api/kopps/v2/courses/IK.json\")\n",
    "r = json.loads(r.text)['courses']\n",
    "course_codes = []\n",
    "\n",
    "for i in range(len(r)):\n",
    "    course_codes.append(r[i]['code'])"
   ]
  },
  {
   "cell_type": "code",
   "execution_count": 167,
   "metadata": {},
   "outputs": [],
   "source": [
    "def get_course_req(code):\n",
    "    res = requests.get(\"https://www.kth.se/api/kopps/v1/course/\" + code + \"/plan\")\n",
    "    if res.status_code != 200:\n",
    "        return None\n",
    "    root = ET.fromstring(res.text)\n",
    "    for tag in root.findall('eligibility'):\n",
    "        if tag.attrib['{http://www.w3.org/XML/1998/namespace}lang'] == 'en':\n",
    "            return tag.text\n",
    "    \n",
    "    return None"
   ]
  },
  {
   "cell_type": "code",
   "execution_count": 168,
   "metadata": {},
   "outputs": [],
   "source": [
    "def extract_courses(req):\n",
    "    reqs = re.findall('[A-Z][A-Z][0-9][0-9][0-9][0-9]', req)\n",
    "    return reqs"
   ]
  },
  {
   "cell_type": "code",
   "execution_count": 169,
   "metadata": {},
   "outputs": [],
   "source": [
    "for c in range(len(course_codes)):\n",
    "    code = course_codes[c]\n",
    "    req_tag = get_course_req(code)\n",
    "\n",
    "    if req_tag is not None:\n",
    "        reqs = extract_courses(req_tag)\n",
    "        for j in range(len(reqs)):\n",
    "            if reqs[j] in course_codes:\n",
    "                connections.append((reqs[j], code))\n",
    "            else:\n",
    "                to_sort.append((reqs[j], code))"
   ]
  },
  {
   "cell_type": "code",
   "execution_count": 170,
   "metadata": {},
   "outputs": [
    {
     "name": "stdout",
     "output_type": "stream",
     "text": [
      "conn [('ID1018', 'ID1020'), ('ID1018', 'ID1354'), ('ID1018', 'IV1201'), ('IV1350', 'IV1201'), ('ID1018', 'ID1214'), ('ID1019', 'ID1214'), ('ID1213', 'ID1214'), ('IV1351', 'IV1023'), ('ID2204', 'ID3014'), ('ID1018', 'IV1351'), ('ID1020', 'ID3016'), ('ID2221', 'ID3016'), ('IS1200', 'IS3202'), ('ID1018', 'IS1200'), ('ID1004', 'IS1200'), ('ID2201', 'ID2219'), ('ID2203', 'ID2219'), ('ID2210', 'ID2219'), ('IS1200', 'IS1204'), ('ID1004', 'IS1204'), ('ID1018', 'ID2213'), ('ID1020', 'ID2213'), ('ID1018', 'ID1213'), ('ID1020', 'ID1213'), ('ID1018', 'IV1303'), ('ID1018', 'ID1212'), ('ID1018', 'ID2212'), ('ID1018', 'IV1350'), ('IS1500', 'ID1200'), ('ID1018', 'ID1206'), ('IS1200', 'ID1206'), ('ID1020', 'ID1206'), ('ID1019', 'ID1206'), ('IS1500', 'ID2200'), ('ID1018', 'ID2206'), ('IS1200', 'ID2206'), ('ID1020', 'ID2206'), ('ID1019', 'ID2206'), ('ID1217', 'IS2200'), ('ID1018', 'ID1019'), ('ID1020', 'ID1019')]\n",
      "to sort [('ID1302', 'ID1354'), ('IE1204', 'IS1200'), ('IE1205', 'IS1200'), ('DD1314', 'IS1500'), ('DD1339', 'IS1500'), ('DD1345', 'IS1500'), ('IE1204', 'IS1204'), ('ID3007', 'ID3013'), ('SF1624', 'ID2213'), ('IX1303', 'ID2213'), ('SF1610', 'ID2213'), ('IX1500', 'ID2213'), ('SF1624', 'ID1213'), ('IX1303', 'ID1213'), ('SF1610', 'ID1213'), ('IX1500', 'ID1213'), ('DD1332', 'ID1212'), ('DD1332', 'ID2212'), ('DD1337', 'ID1200'), ('DD1338', 'ID1200'), ('DD1396', 'ID1200'), ('DD1361', 'ID1200'), ('DD1337', 'ID2200'), ('DD1338', 'ID2200'), ('DD1396', 'ID2200'), ('DD1361', 'ID2200'), ('IX1500', 'ID1019'), ('SF1610', 'ID1019')]\n"
     ]
    }
   ],
   "source": [
    "print('conn', connections)\n",
    "print('to sort', to_sort)"
   ]
  },
  {
   "cell_type": "code",
   "execution_count": 172,
   "metadata": {},
   "outputs": [],
   "source": [
    "G = nx.Graph()\n",
    "\n",
    "for c in range(len(course_codes)):\n",
    "    G.add_node(course_codes[c])"
   ]
  },
  {
   "cell_type": "code",
   "execution_count": null,
   "metadata": {},
   "outputs": [],
   "source": []
  }
 ],
 "metadata": {
  "kernelspec": {
   "display_name": "Python 3",
   "language": "python",
   "name": "python3"
  },
  "language_info": {
   "codemirror_mode": {
    "name": "ipython",
    "version": 3
   },
   "file_extension": ".py",
   "mimetype": "text/x-python",
   "name": "python",
   "nbconvert_exporter": "python",
   "pygments_lexer": "ipython3",
   "version": "3.6.4"
  }
 },
 "nbformat": 4,
 "nbformat_minor": 2
}
